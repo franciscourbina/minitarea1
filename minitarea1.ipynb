{
  "nbformat": 4,
  "nbformat_minor": 0,
  "metadata": {
    "colab": {
      "name": "minitarea1_alumnos.ipynb",
      "version": "0.3.2",
      "provenance": []
    },
    "kernelspec": {
      "name": "python3",
      "display_name": "Python 3"
    }
  },
  "cells": [
    {
      "metadata": {
        "id": "m-GSytk-24pP",
        "colab_type": "text"
      },
      "cell_type": "markdown",
      "source": [
        "# EI2001: Ciencia de Datos en Astronomía\n",
        "**Profesores:** Pía Cortés, Daniela Barrientos, Matías Suazo, Matías Mattamala\n",
        "\n",
        "## Minitarea 1: Repaso de python\n",
        "\n",
        "**Objetivos:** \n",
        "1. Repasar conceptos básicos y \"soltar la mano\" con Python\n",
        "2. Comprender el uso de Google Colab\n",
        "3. Integración de Google Colab con GitHub\n",
        "\n",
        "**Instrucciones:**\n",
        "0. Lean cuidadosamente todo lo que viene ahora\n",
        "1. Para hacer esta tarea tienen que hacer un **fork** del repositorio en sus cuentas de GitHub.\n",
        "2. Luego deben habilitar sus cuentas de [Google Colab](https://colab.research.google.com) (cuenta Google requerida)\n",
        "3. Abrir Google Colab y seleccionar \"abrir un archivo desde GitHub\". Deben seleccionar su cuenta Github y escoger el repositorio que corresponde al fork que hicieron.\n",
        "4. Si todo sale bien, debería abrirse una copia de este notebook en su cuenta de Google Colab.\n",
        "5. Se adjuntan 6 mini actividades a completar. TODAS son necesarias y deben completar lo que se va pidiendo.\n",
        "6. Cada vez que completen un ítem, deben guardar un avance en su fork de GitHub, de modo de **respaldar cada avance significativo**. Usen comentarios coherentes con cada respaldo \"Sección 1 completa\", \"Tarea terminada\", no solamente el que pone por defecto."
      ]
    },
    {
      "metadata": {
        "id": "X0NK2VoI4bH-",
        "colab_type": "text"
      },
      "cell_type": "markdown",
      "source": [
        "## 1. Variables\n",
        "\n",
        "Declara la variable `AU` (por Unidad Astronómica en inglés) y asignale su valor correspondiente en kilómetros.\n",
        "Declara la variable `radio_tierra` y también asígnale su valor en kilómetros."
      ]
    },
    {
      "metadata": {
        "id": "B2ekV_QHBmzZ",
        "colab_type": "code",
        "colab": {}
      },
      "cell_type": "code",
      "source": [
        "# Declaramos las siguientes variables AU (Unidad Astronómica) y radio_tierra\n",
        "# todas ellas en kilómetros.\n",
        "\n",
        "AU = 149597870.7\n",
        "\n",
        "radio_tierra =  6371.0\n",
        "\n",
        "\n"
      ],
      "execution_count": 0,
      "outputs": []
    },
    {
      "metadata": {
        "id": "ICYbu84fBo-J",
        "colab_type": "text"
      },
      "cell_type": "markdown",
      "source": [
        "## 2. Listas\n",
        "Declara las siguientes listas, buscando la información correspondiente en internet:\n",
        "\n",
        "1. `planetas` con strings correspondientes a los planetas del sistema solar\n",
        "2. `radio_planetas`, con numeros decimales correspondientes a los radios (o radio medio) de los planetas (en kms), en el mismo orden que los escribiste anteriormente\n",
        "3. `distancia_planetas`, con números decimales correspondientes a la distancia de cada planeta al sol (en kms)\n",
        "\n",
        "Por último, también declara las variable `num_planetas`, `num_radios` y `num_distancias` con el número de elementos de cada lista, obtenido usando funciones de Python. \n",
        "\n",
        "Usa estos números para guardar en la variable `checksum` un valor booleano que indique si los tres valores son iguales, y printealo en pantalla de forma tal que diga _\"Checksum: Todas las listas tienen el mismo tamaño\"_ si el resultado es `True` y _\"Checksum: ERROR: NO todas las listas tienen el mismo tamaño!\"_, si no coinciden.\n",
        "\n",
        "\n",
        "\n",
        "(Dato freak: checksum es un tipo de prueba que se realiza al transferir datos por internet para comprobar que los datos recibidos/enviados tienen el mismo tamaño que deberían. [Más información](https://es.wikipedia.org/wiki/Suma_de_verificaci%C3%B3n))"
      ]
    },
    {
      "metadata": {
        "id": "ggrfJEh8B2dR",
        "colab_type": "code",
        "colab": {
          "base_uri": "https://localhost:8080/",
          "height": 34
        },
        "outputId": "65d1ed21-3d03-4226-c080-899cce424f03"
      },
      "cell_type": "code",
      "source": [
        "planetas = [\"mercurio\" , \"venus\" , \"tierra\" , \"marte\" , \"jupiter\" , \"saturno\" , \"urano\" , \"neptuno\"]\n",
        "radio_planetas = [2439.0 , 6051.8 , 6370.0 , 3389.5 , 69911.0 , 58232.0 , 25362.0 , 24622.0]\n",
        "distancia_planetas = [57910000 , 108200000 , 146600000 , 227940000 , 778330000 , 1429400000 , 2870990000 , 4504300000]\n",
        "\n",
        "num_planetas = len(planetas)\n",
        "num_radios = len(radio_planetas)\n",
        "num_distancias =len(distancia_planetas)\n",
        "\n",
        "checksum = (num_planetas == num_radios and num_distancias == num_radios)\n",
        "if checksum == True:\n",
        "  print(\"Checksum: Todas las listas tienen el mismo tamaño\")\n",
        "else:\n",
        "  print(\"Checksum: ERROR: NO todas las listas tienen el mismo tamaño!\")"
      ],
      "execution_count": 12,
      "outputs": [
        {
          "output_type": "stream",
          "text": [
            "Checksum: Todas las listas tienen el mismo tamaño\n"
          ],
          "name": "stdout"
        }
      ]
    },
    {
      "metadata": {
        "id": "FCeFgFPzlCXz",
        "colab_type": "text"
      },
      "cell_type": "markdown",
      "source": [
        "## 3. Clases\n",
        "Crea una clase `Planeta` que:\n",
        "\n",
        "- Tenga las variables internas `nombre`, `radio` y `distancia`, donde el primero es el nombre del planeta, el segundo su radio y el tercero la distancia del planeta al Sol. \n",
        "- El constructor de la clase debe recibir estos tres parámetros al crear un objeto `Planeta`.\n",
        "- Adicionalmente, la clase debe poseer una función `info` que retorne un `string` con el siguiente texto : _NombreDelPlaneta, radio=9999 [km], distancia=9999 [km]_, donde el nombre del planeta y el radio deben obtenerse de las variables internas de la clase.\n",
        "\n",
        "\n",
        "Prueba la clase planeta creando el planeta `vulcano` usando los siguientes datos del ficticio planeta [Vulcano](https://es.wikipedia.org/wiki/Vulcano_(planeta_hipot%C3%A9tico):\n",
        "- **Nombre:** Vulcano\n",
        "- **Radio:** 90 km\n",
        "- **Distancia al sol:** 15,000,000 [km]\n",
        "\n",
        "y printea el `string` que entrega la función `info`."
      ]
    },
    {
      "metadata": {
        "id": "7Q3_QbQKlpQA",
        "colab_type": "code",
        "outputId": "7931b44d-fe9d-4922-b2cd-ef19087ea685",
        "colab": {
          "base_uri": "https://localhost:8080/",
          "height": 34
        }
      },
      "cell_type": "code",
      "source": [
        "# Define acá la clase Planeta\n",
        "\n",
        "class planeta:\n",
        "  def __init__(self, nombre, radio, distancia):\n",
        "    self.nombre = nombre\n",
        "    self.radio = radio\n",
        "    self.distancia = distancia\n",
        "  def info(self):\n",
        "    Informacion = self.nombre + \", radio=\" + str(self.radio)+ \"[km]\"+ \",distancia=\" + str(self.distancia)+ \"[km]\"\n",
        "    return Informacion\n",
        "# aca creamos una instancia de vulcano como Planeta\n",
        "\n",
        "vulcano = planeta(\"vulcano\", 90, 15000000)\n",
        "print(vulcano.info())"
      ],
      "execution_count": 31,
      "outputs": [
        {
          "output_type": "stream",
          "text": [
            "vulcano, radio=90[km],distancia=15000000[km]\n"
          ],
          "name": "stdout"
        }
      ]
    },
    {
      "metadata": {
        "id": "h_1Ai1jeB7WT",
        "colab_type": "text"
      },
      "cell_type": "markdown",
      "source": [
        "## 4. Diccionarios\n",
        "Usando las listas de planetas, radios y distancias crea un diccionario `dict_planetas` en que cada _llave_ sea el nombre del planeta, y el valor asignado sea un objeto `Planeta` que se cree usando la información respectiva de cada uno. \n",
        "\n",
        "Prueba que todo esté correcto printeando la información de todos los planetas."
      ]
    },
    {
      "metadata": {
        "id": "u2apsioWCN5_",
        "colab_type": "code",
        "colab": {
          "base_uri": "https://localhost:8080/",
          "height": 153
        },
        "outputId": "f21b8328-6d31-44f1-bb8e-f561e4e36cef"
      },
      "cell_type": "code",
      "source": [
        "diccionario_planetas = dict()\n",
        "for i in range(num_planetas):\n",
        "  diccionario_planetas[planetas[i]] = planeta(planetas[i], radio_planetas[i], distancia_planetas[i])\n",
        "\n",
        "arreglo_planetas = diccionario_planetas.values()\n",
        "for j in arreglo_planetas:\n",
        "  print(j.info())\n",
        " "
      ],
      "execution_count": 29,
      "outputs": [
        {
          "output_type": "stream",
          "text": [
            "mercurio, radio=2439.0[km],distancia=57910000[km]\n",
            "venus, radio=6051.8[km],distancia=108200000[km]\n",
            "tierra, radio=6370.0[km],distancia=146600000[km]\n",
            "marte, radio=3389.5[km],distancia=227940000[km]\n",
            "jupiter, radio=69911.0[km],distancia=778330000[km]\n",
            "saturno, radio=58232.0[km],distancia=1429400000[km]\n",
            "urano, radio=25362.0[km],distancia=2870990000[km]\n",
            "neptuno, radio=24622.0[km],distancia=4504300000[km]\n"
          ],
          "name": "stdout"
        }
      ]
    },
    {
      "metadata": {
        "id": "n1nhqXDibk1E",
        "colab_type": "text"
      },
      "cell_type": "markdown",
      "source": [
        "## 5. Graficos en Python\n",
        "_(Este es un spoiler de la próxima clase)_\n",
        "\n",
        "Grafica todos los planetas alineados, considerando que el sol está en la posición (0,0). Te servirán las siguientes funciones de Python, usando el _Planeta Vulcano_  que creaste anteriormente como ejemplo. \n",
        "\n",
        "**Usa el bloque de abajo sólo como referencia, tu código deberás escribirlo en el bloque de abajo**"
      ]
    },
    {
      "metadata": {
        "id": "VHtuRLhQq9pG",
        "colab_type": "code",
        "colab": {
          "base_uri": "https://localhost:8080/",
          "height": 393
        },
        "outputId": "604efe71-01c0-416a-f4fb-8aa6231546f2"
      },
      "cell_type": "code",
      "source": [
        "# Matplotlib es una libreria que sirve para ahcer graficos como en MATLAB\n",
        "import matplotlib.pyplot as plt\n",
        "\n",
        "\n",
        "# La parte de abajo usa las funciones de matplotlib para graficar un planeta\n",
        "# Primero creamos una figura donde pondremos los objetos\n",
        "fig1 = plt.figure()\n",
        "# Despues creamos el dibujo del planeta como un gráfico de un sólo punto, usando la función PLOT\n",
        "# Primero la coordenada X\n",
        "# el segundo valor es la coordenada Y (usamos 0 por simplicidad)\n",
        "# el tercer valor indica que en vez de hacer un gráfico de líneas, usaremos puntos\n",
        "# el ultimo valor, markersize, indica el tamaño del que queremos dibujar el punto\n",
        "plt.plot(vulcano.distancia, 0, 'o', markersize=vulcano.radio)\n",
        "\n",
        "# La función TEXT nos permite poner un texto\n",
        "# Primero va la coordenada X\n",
        "# Segundo la coordenada Y\n",
        "# Tercera es el texto\n",
        "# Cuarto es la orientación del texto\n",
        "# Finalmente el tamaño del texto\n",
        "plt.text(vulcano.distancia, -0.015, vulcano.info(), rotation=-10, size=12)\n",
        "\n",
        "\n",
        "# Por ultimo ponemos la información que no puede faltar nunca en un gráfico: las etiquetas y titulo\n",
        "plt.xlabel('Distancia al sol [kms])')\n",
        "plt.ylabel('Distancia al sol [kms]')\n",
        "plt.title('Posición de los planetas')"
      ],
      "execution_count": 32,
      "outputs": [
        {
          "output_type": "execute_result",
          "data": {
            "text/plain": [
              "Text(0.5, 1.0, 'Posición de los planetas')"
            ]
          },
          "metadata": {
            "tags": []
          },
          "execution_count": 32
        },
        {
          "output_type": "display_data",
          "data": {
            "image/png": "[encoded data removed]",
            "text/plain": [
              "<Figure size 576x396 with 1 Axes>"
            ]
          },
          "metadata": {
            "tags": []
          }
        }
      ]
    },
    {
      "metadata": {
        "id": "TxPDNv2Rwskp",
        "colab_type": "text"
      },
      "cell_type": "markdown",
      "source": [
        "**Pon tu gráfico de los planetas acá abajo**\n",
        "\n",
        "Hint 1: Si tienes problemas para visualizar los planetas, prueba normalizando los radios de los planetas por una distancia \"conveniente\" como las que buscaste en la primera parte. Lo mismo para las distancias de cada planeta al sol."
      ]
    },
    {
      "metadata": {
        "id": "Z6P5s7DKrK6h",
        "colab_type": "code",
        "colab": {}
      },
      "cell_type": "code",
      "source": [
        ""
      ],
      "execution_count": 0,
      "outputs": []
    },
    {
      "metadata": {
        "id": "T5dkOv6-1AZ1",
        "colab_type": "text"
      },
      "cell_type": "markdown",
      "source": [
        "## 6. Bonus: Ponte creativ@\n",
        "En esta última parte te pedimos que hagas algún aporte entretenido al trabajo anterior. No olvides comentar adecuadamente el código que generes, ya que tiene que quedar claro qué estas haciendo.\n",
        "\n",
        "Algunas ideas incluyen colorear los planetas con el color más parecido que se pueda, o cambiar sus posiciones espaciales, agregar el sol, entre otras cosas. \n",
        "\n",
        "\n",
        "Este es tu momento de brillar."
      ]
    },
    {
      "metadata": {
        "id": "M2zqXpR12SDy",
        "colab_type": "code",
        "colab": {}
      },
      "cell_type": "code",
      "source": [
        ""
      ],
      "execution_count": 0,
      "outputs": []
    }
  ]
}